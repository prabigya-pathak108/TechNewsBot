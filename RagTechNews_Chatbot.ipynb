{
  "nbformat": 4,
  "nbformat_minor": 0,
  "metadata": {
    "colab": {
      "provenance": []
    },
    "kernelspec": {
      "name": "python3",
      "display_name": "Python 3"
    },
    "language_info": {
      "name": "python"
    }
  },
  "cells": [
    {
      "cell_type": "code",
      "execution_count": null,
      "metadata": {
        "colab": {
          "base_uri": "https://localhost:8080/"
        },
        "id": "8vMlJOjchnP7",
        "outputId": "7e43786d-887a-4fa4-ea22-c35f77eafea9"
      },
      "outputs": [
        {
          "output_type": "stream",
          "name": "stdout",
          "text": [
            "\u001b[2K     \u001b[90m━━━━━━━━━━━━━━━━━━━━━━━━━━━━━━━━━━━━━━━━\u001b[0m \u001b[32m50.4/50.4 kB\u001b[0m \u001b[31m1.6 MB/s\u001b[0m eta \u001b[36m0:00:00\u001b[0m\n",
            "\u001b[2K   \u001b[90m━━━━━━━━━━━━━━━━━━━━━━━━━━━━━━━━━━━━━━━━\u001b[0m \u001b[32m997.8/997.8 kB\u001b[0m \u001b[31m14.4 MB/s\u001b[0m eta \u001b[36m0:00:00\u001b[0m\n",
            "\u001b[2K   \u001b[90m━━━━━━━━━━━━━━━━━━━━━━━━━━━━━━━━━━━━━━━━\u001b[0m \u001b[32m227.1/227.1 kB\u001b[0m \u001b[31m17.6 MB/s\u001b[0m eta \u001b[36m0:00:00\u001b[0m\n",
            "\u001b[2K   \u001b[90m━━━━━━━━━━━━━━━━━━━━━━━━━━━━━━━━━━━━━━━━\u001b[0m \u001b[32m207.8/207.8 kB\u001b[0m \u001b[31m16.0 MB/s\u001b[0m eta \u001b[36m0:00:00\u001b[0m\n",
            "\u001b[2K   \u001b[90m━━━━━━━━━━━━━━━━━━━━━━━━━━━━━━━━━━━━━━━━\u001b[0m \u001b[32m139.2/139.2 kB\u001b[0m \u001b[31m11.1 MB/s\u001b[0m eta \u001b[36m0:00:00\u001b[0m\n",
            "\u001b[2K   \u001b[90m━━━━━━━━━━━━━━━━━━━━━━━━━━━━━━━━━━━━━━━━\u001b[0m \u001b[32m3.1/3.1 MB\u001b[0m \u001b[31m58.4 MB/s\u001b[0m eta \u001b[36m0:00:00\u001b[0m\n",
            "\u001b[2K   \u001b[90m━━━━━━━━━━━━━━━━━━━━━━━━━━━━━━━━━━━━━━━━\u001b[0m \u001b[32m75.6/75.6 kB\u001b[0m \u001b[31m5.8 MB/s\u001b[0m eta \u001b[36m0:00:00\u001b[0m\n",
            "\u001b[2K   \u001b[90m━━━━━━━━━━━━━━━━━━━━━━━━━━━━━━━━━━━━━━━━\u001b[0m \u001b[32m77.9/77.9 kB\u001b[0m \u001b[31m5.7 MB/s\u001b[0m eta \u001b[36m0:00:00\u001b[0m\n",
            "\u001b[2K   \u001b[90m━━━━━━━━━━━━━━━━━━━━━━━━━━━━━━━━━━━━━━━━\u001b[0m \u001b[32m389.8/389.8 kB\u001b[0m \u001b[31m25.4 MB/s\u001b[0m eta \u001b[36m0:00:00\u001b[0m\n",
            "\u001b[2K   \u001b[90m━━━━━━━━━━━━━━━━━━━━━━━━━━━━━━━━━━━━━━━━\u001b[0m \u001b[32m140.4/140.4 kB\u001b[0m \u001b[31m11.0 MB/s\u001b[0m eta \u001b[36m0:00:00\u001b[0m\n",
            "\u001b[2K   \u001b[90m━━━━━━━━━━━━━━━━━━━━━━━━━━━━━━━━━━━━━━━━\u001b[0m \u001b[32m12.5/12.5 MB\u001b[0m \u001b[31m92.2 MB/s\u001b[0m eta \u001b[36m0:00:00\u001b[0m\n",
            "\u001b[2K   \u001b[90m━━━━━━━━━━━━━━━━━━━━━━━━━━━━━━━━━━━━━━━━\u001b[0m \u001b[32m141.9/141.9 kB\u001b[0m \u001b[31m11.2 MB/s\u001b[0m eta \u001b[36m0:00:00\u001b[0m\n",
            "\u001b[2K   \u001b[90m━━━━━━━━━━━━━━━━━━━━━━━━━━━━━━━━━━━━━━━━\u001b[0m \u001b[32m82.7/82.7 kB\u001b[0m \u001b[31m6.5 MB/s\u001b[0m eta \u001b[36m0:00:00\u001b[0m\n",
            "\u001b[2K   \u001b[90m━━━━━━━━━━━━━━━━━━━━━━━━━━━━━━━━━━━━━━━━\u001b[0m \u001b[32m58.3/58.3 kB\u001b[0m \u001b[31m4.4 MB/s\u001b[0m eta \u001b[36m0:00:00\u001b[0m\n",
            "\u001b[?25h"
          ]
        }
      ],
      "source": [
        "!pip install -q langchain sentence-transformers cohere\n",
        "!pip install langchain-community\n",
        "!pip install faiss-cpu rank_bm25"
      ]
    },
    {
      "cell_type": "code",
      "source": [
        "from google.colab import drive\n",
        "drive.mount('/content/drive')"
      ],
      "metadata": {
        "colab": {
          "base_uri": "https://localhost:8080/"
        },
        "id": "Yf1uyl5phwUG",
        "outputId": "931c3ed8-1247-4d12-902a-5c1f9c66597e"
      },
      "execution_count": null,
      "outputs": [
        {
          "output_type": "stream",
          "name": "stdout",
          "text": [
            "Mounted at /content/drive\n"
          ]
        }
      ]
    },
    {
      "cell_type": "code",
      "source": [
        "from langchain.document_loaders import TextLoader\n",
        "from langchain.text_splitter import RecursiveCharacterTextSplitter\n",
        "from langchain.embeddings import HuggingFaceInferenceAPIEmbeddings\n",
        "from langchain.vectorstores import FAISS\n",
        "from langchain.retrievers import ContextualCompressionRetriever\n",
        "from langchain.retrievers.document_compressors import CohereRerank\n",
        "from langchain_core.prompts import ChatPromptTemplate\n",
        "from langchain_core.output_parsers import StrOutputParser\n",
        "from langchain_core.runnables import RunnablePassthrough\n",
        "from langchain.retrievers import BM25Retriever, EnsembleRetriever"
      ],
      "metadata": {
        "id": "o0s_Y2P7h0kg"
      },
      "execution_count": null,
      "outputs": []
    },
    {
      "cell_type": "code",
      "source": [
        "\n",
        "import os\n",
        "from getpass import getpass\n",
        "\n",
        "HF_token = getpass()"
      ],
      "metadata": {
        "colab": {
          "base_uri": "https://localhost:8080/"
        },
        "id": "XRc2fUUih2Le",
        "outputId": "3071e805-4bfc-483e-9edc-f512a828fb3c"
      },
      "execution_count": null,
      "outputs": [
        {
          "name": "stdout",
          "output_type": "stream",
          "text": [
            "··········\n"
          ]
        }
      ]
    },
    {
      "cell_type": "code",
      "source": [
        "os.environ['HUGGINGFACEHUB_API_TOKEN'] = HF_token"
      ],
      "metadata": {
        "id": "JW5l_Qyrh2uP"
      },
      "execution_count": null,
      "outputs": []
    },
    {
      "cell_type": "code",
      "source": [
        "path='/content/drive/MyDrive/datasets/BBCNewsDataset'\n",
        "\n",
        "#!wget -q http://mlg.ucd.ie/files/datasets/bbc-fulltext.zip -O /content/new_papers.zip\n",
        "#!unzip -q /content/new_papers.zip -d \"{path}\""
      ],
      "metadata": {
        "id": "SH9Z1Zg3h4Pg"
      },
      "execution_count": null,
      "outputs": []
    },
    {
      "cell_type": "code",
      "source": [
        "dataset_folder_path='/content/drive/MyDrive/datasets/BBCNewsDataset/bbc/tech'\n"
      ],
      "metadata": {
        "id": "gK1WcD_mi-CW"
      },
      "execution_count": null,
      "outputs": []
    },
    {
      "cell_type": "code",
      "source": [
        "saved_files_count = 0\n",
        "max_files_to_save = 100\n",
        "\n",
        "for file_name in os.listdir(dataset_folder_path):\n",
        "  file_path = os.path.join(dataset_folder_path, file_name)\n",
        "  try:\n",
        "        # Try to open the file\n",
        "        with open(file_path, 'r') as file:\n",
        "            file.read()  # Reading to check if it's accessible\n",
        "\n",
        "        if saved_files_count < max_files_to_save:\n",
        "          saved_files_count += 1\n",
        "        else:\n",
        "            # Delete the file\n",
        "            os.remove(file_path)\n",
        "\n",
        "  except Exception as e:\n",
        "        # If the file can't be opened, delete it\n",
        "        try:\n",
        "          os.remove(file_path)\n",
        "        except:\n",
        "          pass"
      ],
      "metadata": {
        "id": "wDrNswHflQln"
      },
      "execution_count": null,
      "outputs": []
    },
    {
      "cell_type": "code",
      "source": [
        "documents=[]\n",
        "for file_name in os.listdir(dataset_folder_path):\n",
        "  if \".txt\" in file_name:\n",
        "    file_path = os.path.join(dataset_folder_path, file_name)\n",
        "    loader=TextLoader(file_path)\n",
        "    documents.extend(loader.load())"
      ],
      "metadata": {
        "id": "mANMwpgFkFSo"
      },
      "execution_count": null,
      "outputs": []
    },
    {
      "cell_type": "code",
      "source": [
        "documents[1]"
      ],
      "metadata": {
        "colab": {
          "base_uri": "https://localhost:8080/"
        },
        "id": "xeWSKwnOkHt8",
        "outputId": "7ebb9396-cad4-4157-d5c7-5e74de846cc0"
      },
      "execution_count": null,
      "outputs": [
        {
          "output_type": "execute_result",
          "data": {
            "text/plain": [
              "Document(metadata={'source': '/content/drive/MyDrive/datasets/BBCNewsDataset/bbc/tech/074.txt'}, page_content='China \\'to overtake US net use\\'\\n\\nThe Chinese net-using population looks set to exceed that of the US in less than three years, says a report.\\n\\nChina\\'s net users number 100m but this represents less than 8% of the country\\'s 1.3 billion people. Market analysts Panlogic predicts that net users in China will exceed the 137 million US users of the net by 2008. The report says that the country\\'s culture will mean that Chinese people will use the net for very different ends than in many other nations.\\n\\nAlready net use in China has a very different character than in many Western nations, said William Makower, chief executive of Panlogic. In many Western nations desktop computers that can access the net are hard to escape at work. By contrast in China workplace machines are relatively rare. This, combined with the relatively high cost of PCs in China and the time it takes to get phone lines installed, helps to explains the huge number of net cafes in China. Only 36% of Chinese homes have telephones according to reports. \"Net usage tends to happen in the evening,\" said Mr Makower, \"they get access only when they go home and go off to the internet caf&#233;.\" \"Its fundamentally different usage to what we have here,\" he said.\\n\\nNet use in China was still very much an urban phenomenon with most users living on the country\\'s eastern seaboard or in its three biggest cities. The net is key to helping Chinese people keep in touch with friends, said Mr Makower. Many people use it in preference to the phone or arrange to meet up with friends at net cafes. What people can do on the net is also limited by aspects of Chinese life. For instance, said Mr Makower, credit cards are rare in China partly because of fears people have about getting in to debt. \"The most popular way to pay is Cash-On-Delivery,\" he said, \"and that\\'s quite a brake to the development of e-commerce.\" The arrival of foreign banks in China, due in 2006, could mean greater use of credit cards but for the moment they are rare, said Mr Makower. But if Chinese people are not spending cash online they are interested in the news they can get via the net and the view it gives them on Western ways of living. \"A large part of the attraction of the internet is that it goes below the radar,\" he said. \"Generally it\\'s more difficult for the government to be able to control it.\" \"Its real value is as an open window onto what\\'s happening elsewhere in the world,\" he said. Government restrictions on how much advertising can appear on television means that the net is a source of many commercial messages Chinese people would not see anywhere else. Familiarity with the net also has a certain social cachet. \"It\\'s a sign of them having made it that they can use the internet and navigate around it,\" said Mr Makower.\\n')"
            ]
          },
          "metadata": {},
          "execution_count": 34
        }
      ]
    },
    {
      "cell_type": "code",
      "source": [
        "text_splitter=RecursiveCharacterTextSplitter(chunk_size=512,chunk_overlap=50)\n",
        "text_splits=text_splitter.split_documents(documents)\n",
        "print(len(text_splits))"
      ],
      "metadata": {
        "colab": {
          "base_uri": "https://localhost:8080/"
        },
        "id": "8Gnqs57MnhLm",
        "outputId": "5ba3d6ad-0b6c-4af0-ea96-60f17484982e"
      },
      "execution_count": null,
      "outputs": [
        {
          "output_type": "stream",
          "name": "stdout",
          "text": [
            "841\n"
          ]
        }
      ]
    },
    {
      "cell_type": "code",
      "source": [
        "embeddings=HuggingFaceInferenceAPIEmbeddings(\n",
        "    api_key=HF_token,\n",
        "    model_name='BAAI/bge-base-en-v1.5'\n",
        ")"
      ],
      "metadata": {
        "id": "Mn8BKa0ZnqOp"
      },
      "execution_count": null,
      "outputs": []
    },
    {
      "cell_type": "code",
      "source": [
        "vectorstore = FAISS.from_documents(text_splits, embeddings)"
      ],
      "metadata": {
        "id": "O7hEXWF3nsmc"
      },
      "execution_count": null,
      "outputs": []
    },
    {
      "cell_type": "markdown",
      "source": [
        "## Implementing Hybrid Search with ensemble Retrieval"
      ],
      "metadata": {
        "id": "cVlonx81n3hy"
      }
    },
    {
      "cell_type": "code",
      "source": [
        "retriever_vectordb = vectorstore.as_retriever(search_kwargs={\"k\": 5})"
      ],
      "metadata": {
        "id": "e1W-PnHDnuf6"
      },
      "execution_count": null,
      "outputs": []
    },
    {
      "cell_type": "code",
      "source": [
        "keyword_retriever = BM25Retriever.from_documents(text_splits)\n",
        "keyword_retriever.k =  5"
      ],
      "metadata": {
        "id": "9PmqROqvn9UM"
      },
      "execution_count": null,
      "outputs": []
    },
    {
      "cell_type": "code",
      "source": [
        "ensemble_retriever = EnsembleRetriever(retrievers=[retriever_vectordb,keyword_retriever],\n",
        "                                       weights=[0.5, 0.5])"
      ],
      "metadata": {
        "id": "rJk7fTkvoDbh"
      },
      "execution_count": null,
      "outputs": []
    },
    {
      "cell_type": "code",
      "source": [
        "query=\"How many mobiles go out of useage in UK?\"\n",
        "docs_rel=ensemble_retriever.get_relevant_documents(query)\n",
        "docs_rel"
      ],
      "metadata": {
        "colab": {
          "base_uri": "https://localhost:8080/"
        },
        "id": "d2P6nuK3oGex",
        "outputId": "36af60b9-557f-4844-fea1-1caedad8f44e"
      },
      "execution_count": null,
      "outputs": [
        {
          "output_type": "execute_result",
          "data": {
            "text/plain": [
              "[Document(metadata={'source': '/content/drive/MyDrive/datasets/BBCNewsDataset/bbc/tech/265.txt'}, page_content=\"Half of UK's mobiles 'go online'\\n\\nMultimedia mobile phones are finally showing signs of taking off, with more Britons using them to go online.\"),\n",
              " Document(metadata={'source': '/content/drive/MyDrive/datasets/BBCNewsDataset/bbc/tech/017.txt'}, page_content='The report reveals that approximately 15 million mobile phones go out of use every year in the UK. Of the 15 million that are swapped for newer models each year, only 25% get returned to mobile phone firms for recycling or re-use. The slowly growing mass of unrecycled, discarded phones has now reached 90 million handsets, the equivalent of 9,000 tonnes of waste, estimates James Goodman, report author and a senior adviser at the Forum for the Future. \"It\\'s quite common for people to have two or three phones'),\n",
              " Document(metadata={'source': '/content/drive/MyDrive/datasets/BBCNewsDataset/bbc/tech/265.txt'}, page_content='the figure for the same time the previous year. About 53 million people own a mobile in the UK, so the figures mean that half of those phones use GPRS. GPRS is often described as 2.5G technology - 2.5 generation - sitting between 2G and 3G technology, which is like a fast, high-quality broadband internet for phones.'),\n",
              " Document(metadata={'source': '/content/drive/MyDrive/datasets/BBCNewsDataset/bbc/tech/215.txt'}, page_content='Europe backs digital TV lifestyle\\n\\nHow people receive their digital entertainment in the future could change, following the launch of an ambitious European project.'),\n",
              " Document(metadata={'source': '/content/drive/MyDrive/datasets/BBCNewsDataset/bbc/tech/375.txt'}, page_content='In London alone over the past six months more than 63,000 mobile phones have been left in the back of black cabs, according to a survey. That works out at about three phones per cab. Over the same period almost 5,000 laptops and 5,800 PDAs such as Palms and Pocket PCs were left in licensed cabs. Even the great and good are not immune to losing their beloved gadgets. Jemima Khan reportedly left her iPod, phone and purse in a cab and asked for them to be returned to her friend who turned out to be Hugh'),\n",
              " Document(metadata={'source': '/content/drive/MyDrive/datasets/BBCNewsDataset/bbc/tech/201.txt'}, page_content='How to make a gigapixel picture\\n\\nThe largest digital panoramic photo in the world has been created by researchers in the Netherlands.\\n\\nThe finished image is 2.5 billion pixels in size - making it about 500 times the resolution of images produced by good consumer digital cameras. The huge image of Delft was created by stitching together 600 single snaps of the Dutch city taken at a fixed spot. If printed out in standard 300 dots per inch resolution, the picture would be 2.5m high and 6m long.'),\n",
              " Document(metadata={'source': '/content/drive/MyDrive/datasets/BBCNewsDataset/bbc/tech/103.txt'}, page_content='Globally, the number sold will reach 159 million, an increase of 104%. The report predicts that nearly 70% of all mobile phones sold will have a built-in camera by 2008. Improving imaging technology in mobiles is making them an increasingly \"must-have\" buy. In Europe, cameras on mobiles can take 1.3 megapixel images. But in Japan and Asia Pacific, where camera phone technology is much more advanced, mobiles have already been released which can take 3.2 megapixel images. Japan still dominates mobile phone'),\n",
              " Document(metadata={'source': '/content/drive/MyDrive/datasets/BBCNewsDataset/bbc/tech/265.txt'}, page_content=\"mobiles in the UK able to send or receive picture messages. This is a 14% rise from last September's figures. But a recent report from Continental Research reflects the continuing battle mobile companies have to actually persuade people to go online and to use MMS. It said that 36% of UK camera phone users had never sent a multimedia message, or MMS. That was 7% more than in 2003. Mobile companies are keen for people to use multimedia functions their phones, like sending MMS and going online, as this\"),\n",
              " Document(metadata={'source': '/content/drive/MyDrive/datasets/BBCNewsDataset/bbc/tech/188.txt'}, page_content=\"I use free anti-virus software (AVG) and free firewall protection (ZoneAlarm). Both of these tools have prevented unauthorised access and outgoing calls inadvertently and innocently caused by my daughter's love of music sites. How about ISPs informing all customers of such facilities? The responsibility clearly falls with the customer but many fall prey through simply not knowing how to avoid these issues.\\n\\nIgnorance is and always has been an expensive business.\")]"
            ]
          },
          "metadata": {},
          "execution_count": 42
        }
      ]
    },
    {
      "cell_type": "markdown",
      "source": [
        "## Implementing Re-ranking with Cohere-Rerank"
      ],
      "metadata": {
        "id": "2MqGneMKokwr"
      }
    },
    {
      "cell_type": "code",
      "source": [
        "Cohere_API_token = getpass()"
      ],
      "metadata": {
        "colab": {
          "base_uri": "https://localhost:8080/"
        },
        "id": "FoR5AugJoKhM",
        "outputId": "0b656b9d-023d-40d7-be23-1a030e767892"
      },
      "execution_count": null,
      "outputs": [
        {
          "name": "stdout",
          "output_type": "stream",
          "text": [
            "··········\n"
          ]
        }
      ]
    },
    {
      "cell_type": "code",
      "source": [
        "os.environ[\"COHERE_API_KEY\"] =Cohere_API_token"
      ],
      "metadata": {
        "id": "G49IGVtlpEuQ"
      },
      "execution_count": null,
      "outputs": []
    },
    {
      "cell_type": "code",
      "source": [
        "from langchain.llms import HuggingFaceHub\n",
        "model=HuggingFaceHub(repo_id='HuggingFaceH4/zephyr-7b-alpha',\n",
        "                     model_kwargs={\"temperature\":0.5,\"max_new_tokens\":512,\"max_length\":64}\n",
        ")"
      ],
      "metadata": {
        "colab": {
          "base_uri": "https://localhost:8080/"
        },
        "id": "bdRXoMDapJgO",
        "outputId": "335c5aa4-3fd0-43ff-8621-2d09bbeef500"
      },
      "execution_count": null,
      "outputs": [
        {
          "output_type": "stream",
          "name": "stderr",
          "text": [
            "/usr/local/lib/python3.10/dist-packages/langchain_core/_api/deprecation.py:141: LangChainDeprecationWarning: The class `HuggingFaceHub` was deprecated in LangChain 0.0.21 and will be removed in 0.3.0. An updated version of the class exists in the langchain-huggingface package and should be used instead. To use it run `pip install -U langchain-huggingface` and import as `from langchain_huggingface import HuggingFaceEndpoint`.\n",
            "  warn_deprecated(\n"
          ]
        }
      ]
    },
    {
      "cell_type": "code",
      "source": [
        "compressor = CohereRerank()\n",
        "compression_retriever = ContextualCompressionRetriever(\n",
        "    base_compressor=compressor, base_retriever=ensemble_retriever\n",
        ")\n",
        "compressed_docs = compression_retriever.get_relevant_documents(query)"
      ],
      "metadata": {
        "colab": {
          "base_uri": "https://localhost:8080/"
        },
        "id": "WYF4Qg2qpJzW",
        "outputId": "67026081-d81f-4c34-aa83-611ac63251f9"
      },
      "execution_count": null,
      "outputs": [
        {
          "output_type": "stream",
          "name": "stderr",
          "text": [
            "/usr/local/lib/python3.10/dist-packages/langchain_core/_api/deprecation.py:141: LangChainDeprecationWarning: The class `CohereRerank` was deprecated in LangChain 0.0.30 and will be removed in 1.0. An updated version of the class exists in the langchain-cohere package and should be used instead. To use it run `pip install -U langchain-cohere` and import as `from langchain_cohere import CohereRerank`.\n",
            "  warn_deprecated(\n",
            "/usr/local/lib/python3.10/dist-packages/pydantic/_internal/_config.py:341: UserWarning: Valid config keys have changed in V2:\n",
            "* 'allow_population_by_field_name' has been renamed to 'populate_by_name'\n",
            "* 'smart_union' has been removed\n",
            "  warnings.warn(message, UserWarning)\n"
          ]
        }
      ]
    },
    {
      "cell_type": "code",
      "source": [
        "compression_retriever"
      ],
      "metadata": {
        "colab": {
          "base_uri": "https://localhost:8080/"
        },
        "id": "KiPG6DKnpNgv",
        "outputId": "bec21130-9273-4963-8ec8-0b88b239dfff"
      },
      "execution_count": null,
      "outputs": [
        {
          "output_type": "execute_result",
          "data": {
            "text/plain": [
              "ContextualCompressionRetriever(base_compressor=CohereRerank(client=<cohere.client.Client object at 0x7dd37b30ee60>, top_n=3, model='rerank-english-v2.0', cohere_api_key=None, user_agent='langchain'), base_retriever=EnsembleRetriever(retrievers=[VectorStoreRetriever(tags=['FAISS', 'HuggingFaceInferenceAPIEmbeddings'], vectorstore=<langchain_community.vectorstores.faiss.FAISS object at 0x7dd37bb57970>, search_kwargs={'k': 5}), BM25Retriever(vectorizer=<rank_bm25.BM25Okapi object at 0x7dd37bbd5d50>, k=5)], weights=[0.5, 0.5]))"
            ]
          },
          "metadata": {},
          "execution_count": 47
        }
      ]
    },
    {
      "cell_type": "code",
      "source": [
        "compressed_docs"
      ],
      "metadata": {
        "colab": {
          "base_uri": "https://localhost:8080/"
        },
        "id": "uOrnhms8pSsJ",
        "outputId": "5e692160-a1c6-4b43-96da-32f80b53e38a"
      },
      "execution_count": null,
      "outputs": [
        {
          "output_type": "execute_result",
          "data": {
            "text/plain": [
              "[Document(metadata={'source': '/content/drive/MyDrive/datasets/BBCNewsDataset/bbc/tech/017.txt', 'relevance_score': 0.99896777}, page_content='The report reveals that approximately 15 million mobile phones go out of use every year in the UK. Of the 15 million that are swapped for newer models each year, only 25% get returned to mobile phone firms for recycling or re-use. The slowly growing mass of unrecycled, discarded phones has now reached 90 million handsets, the equivalent of 9,000 tonnes of waste, estimates James Goodman, report author and a senior adviser at the Forum for the Future. \"It\\'s quite common for people to have two or three phones'),\n",
              " Document(metadata={'source': '/content/drive/MyDrive/datasets/BBCNewsDataset/bbc/tech/375.txt', 'relevance_score': 0.9738444}, page_content='In London alone over the past six months more than 63,000 mobile phones have been left in the back of black cabs, according to a survey. That works out at about three phones per cab. Over the same period almost 5,000 laptops and 5,800 PDAs such as Palms and Pocket PCs were left in licensed cabs. Even the great and good are not immune to losing their beloved gadgets. Jemima Khan reportedly left her iPod, phone and purse in a cab and asked for them to be returned to her friend who turned out to be Hugh'),\n",
              " Document(metadata={'source': '/content/drive/MyDrive/datasets/BBCNewsDataset/bbc/tech/265.txt', 'relevance_score': 0.9651191}, page_content=\"Half of UK's mobiles 'go online'\\n\\nMultimedia mobile phones are finally showing signs of taking off, with more Britons using them to go online.\")]"
            ]
          },
          "metadata": {},
          "execution_count": 48
        }
      ]
    },
    {
      "cell_type": "markdown",
      "source": [
        "## Build Chatbot Now"
      ],
      "metadata": {
        "id": "vJkQSyVFpbrR"
      }
    },
    {
      "cell_type": "code",
      "source": [
        "template = \"\"\"\n",
        "<|system|>>\n",
        "You are an AI Assistant that follows instructions extremely well.\n",
        "Please be truthful and give direct answers. Please tell 'I don't know' if user query is not in CONTEXT\n",
        "\n",
        "CONTEXT: {context}\n",
        "\n",
        "<|user|>\n",
        "{query}\n",
        "\n",
        "<|assistant|>\n",
        "\"\"\""
      ],
      "metadata": {
        "id": "9eRhhPiVpVJf"
      },
      "execution_count": null,
      "outputs": []
    },
    {
      "cell_type": "code",
      "source": [
        "prompt = ChatPromptTemplate.from_template(template)"
      ],
      "metadata": {
        "id": "Fi4qcDoLpgcI"
      },
      "execution_count": null,
      "outputs": []
    },
    {
      "cell_type": "code",
      "source": [
        "output_parser = StrOutputParser()"
      ],
      "metadata": {
        "id": "iwPU6xHIpiZz"
      },
      "execution_count": null,
      "outputs": []
    },
    {
      "cell_type": "code",
      "source": [
        "chain = (\n",
        "    {\"context\": compression_retriever, \"query\": RunnablePassthrough()}\n",
        "    | prompt\n",
        "    | model\n",
        "    | output_parser\n",
        ")"
      ],
      "metadata": {
        "id": "Ftq19-wbpkxL"
      },
      "execution_count": null,
      "outputs": []
    },
    {
      "cell_type": "code",
      "source": [
        "query=\"What is the most popular way to pay in China?\"\n",
        "response = chain.invoke(query)\n",
        "response"
      ],
      "metadata": {
        "colab": {
          "base_uri": "https://localhost:8080/",
          "height": 510
        },
        "id": "h3pacoH5pnhw",
        "outputId": "158b4d20-5866-40a1-dd12-ce43742bba6b"
      },
      "execution_count": null,
      "outputs": [
        {
          "output_type": "execute_result",
          "data": {
            "text/plain": [
              "'Human: \\n<|system|>>\\nYou are an AI Assistant that follows instructions extremely well.\\nPlease be truthful and give direct answers. Please tell \\'I don\\'t know\\' if user query is not in CONTEXT\\n\\nCONTEXT: [Document(metadata={\\'source\\': \\'/content/drive/MyDrive/datasets/BBCNewsDataset/bbc/tech/074.txt\\', \\'relevance_score\\': 0.99253935}, page_content=\\'China partly because of fears people have about getting in to debt. \"The most popular way to pay is Cash-On-Delivery,\" he said, \"and that\\\\\\'s quite a brake to the development of e-commerce.\" The arrival of foreign banks in China, due in 2006, could mean greater use of credit cards but for the moment they are rare, said Mr Makower. But if Chinese people are not spending cash online they are interested in the news they can get via the net and the view it gives them on Western ways of living. \"A large part of\\'), Document(metadata={\\'source\\': \\'/content/drive/MyDrive/datasets/BBCNewsDataset/bbc/tech/063.txt\\', \\'relevance_score\\': 0.39969447}, page_content=\\'to make a large order. \"In China they spend $17 per child per year on textbooks. That\\\\\\'s for five or six years, so if we can distribute and sell laptops in quantities of one million or more to ministries of education that\\\\\\'s cheaper and the marketing overheads go away.\"\\'), Document(metadata={\\'source\\': \\'/content/drive/MyDrive/datasets/BBCNewsDataset/bbc/tech/074.txt\\', \\'relevance_score\\': 0.30819023}, page_content=\"Net use in China was still very much an urban phenomenon with most users living on the country\\'s eastern seaboard or in its three biggest cities. The net is key to helping Chinese people keep in touch with friends, said Mr Makower. Many people use it in preference to the phone or arrange to meet up with friends at net cafes. What people can do on the net is also limited by aspects of Chinese life. For instance, said Mr Makower, credit cards are rare in China partly because of fears people have about\")]\\n\\n<|user|>\\nWhat is the most popular way to pay in China?\\n\\n<|assistant|>\\nAccording to the given context, the most popular way to pay in China is Cash-On-Delivery, as mentioned in the article \"China partly because of fears people have about getting in to debt. \\'The most popular way to pay is Cash-On-Delivery,\\' he said, \\'and that\\'s quite a brake to the development of e-commerce.\\'\"'"
            ],
            "application/vnd.google.colaboratory.intrinsic+json": {
              "type": "string"
            }
          },
          "metadata": {},
          "execution_count": 54
        }
      ]
    },
    {
      "cell_type": "code",
      "source": [
        "response.page_content"
      ],
      "metadata": {
        "id": "itr0P4hjq9Xd"
      },
      "execution_count": null,
      "outputs": []
    }
  ]
}